{
 "cells": [
  {
   "cell_type": "code",
   "execution_count": 21,
   "id": "8e23b7a3-3c90-45ba-bf67-29ab71832ce8",
   "metadata": {},
   "outputs": [],
   "source": [
    "import xarray as xr"
   ]
  },
  {
   "cell_type": "code",
   "execution_count": 22,
   "id": "63f4182c-296b-49ac-a57f-e29da6daf0b5",
   "metadata": {},
   "outputs": [],
   "source": [
    "rootdir = '/work/e786/e786/shared/datasets/bSOSE'\n",
    "niter = 133\n",
    "freq = '5day'\n",
    "filename_prefix = 'bsose_i'+str(niter)+'_2013to2018_'+freq+'_'\n",
    "filename_suffix = '.nc'\n",
    "variables = ['Uvel','Vvel','Wvel','Theta','Salt','MLD']\n",
    "path = []\n",
    "for variable in variables:\n",
    "    filename = filename_prefix+variable+filename_suffix\n",
    "    path.append(rootdir+'/ITER'+str(niter)+'/'+filename)"
   ]
  },
  {
   "cell_type": "code",
   "execution_count": 23,
   "id": "ccd1a384-0a6e-4aee-bffd-b3b71917ca91",
   "metadata": {},
   "outputs": [],
   "source": [
    "ds = xr.open_mfdataset(path)"
   ]
  },
  {
   "cell_type": "code",
   "execution_count": null,
   "id": "1a8ea886-b4a8-4c28-8b6b-061220ce2989",
   "metadata": {},
   "outputs": [],
   "source": []
  }
 ],
 "metadata": {
  "kernelspec": {
   "display_name": "Python [conda env:parcels]",
   "language": "python",
   "name": "conda-env-parcels-py"
  },
  "language_info": {
   "codemirror_mode": {
    "name": "ipython",
    "version": 3
   },
   "file_extension": ".py",
   "mimetype": "text/x-python",
   "name": "python",
   "nbconvert_exporter": "python",
   "pygments_lexer": "ipython3",
   "version": "3.12.3"
  }
 },
 "nbformat": 4,
 "nbformat_minor": 5
}
