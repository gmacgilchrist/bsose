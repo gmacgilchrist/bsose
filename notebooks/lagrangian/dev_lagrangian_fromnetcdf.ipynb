{
 "cells": [
  {
   "cell_type": "code",
   "execution_count": 1,
   "metadata": {},
   "outputs": [],
   "source": [
    "%load_ext autoreload\n",
    "%autoreload 2"
   ]
  },
  {
   "cell_type": "code",
   "execution_count": 26,
   "metadata": {},
   "outputs": [],
   "source": [
    "import xarray as xr\n",
    "import pandas as pd\n",
    "from xgcm import Grid\n",
    "import numpy as np\n",
    "import matplotlib.pyplot as plt\n",
    "from dask.diagnostics import ProgressBar\n",
    "import os\n",
    "from datetime import timedelta"
   ]
  },
  {
   "cell_type": "code",
   "execution_count": 27,
   "metadata": {},
   "outputs": [],
   "source": [
    "import bsose.preprocess as pp"
   ]
  },
  {
   "cell_type": "code",
   "execution_count": 28,
   "metadata": {},
   "outputs": [],
   "source": [
    "from parcels import FieldSet, ParticleSet, JITParticle, AdvectionRK4_3D, ErrorCode, Variable"
   ]
  },
  {
   "cell_type": "markdown",
   "metadata": {},
   "source": [
    "### Define FieldSet"
   ]
  },
  {
   "cell_type": "code",
   "execution_count": 29,
   "metadata": {},
   "outputs": [],
   "source": [
    "rootdir = \"/local/data/bSOSE/iter133NEW/5day/\"\n",
    "filenames = {'U':rootdir+'bsose_i133_2013to2018_5day_Uvel.nc',\n",
    "             'V':rootdir+'bsose_i133_2013to2018_5day_Vvel.nc',\n",
    "             'W':rootdir+'bsose_i133_2013to2018_5day_Wvel.nc',\n",
    "             'T':rootdir+'bsose_i133_2013to2018_5day_Theta.nc',\n",
    "             'S':rootdir+'bsose_i133_2013to2018_5day_Salt.nc'}\n",
    "variables = {'U': 'UVEL',\n",
    "             'V': 'VVEL',\n",
    "             'W': 'WVEL',\n",
    "             'T': 'THETA',\n",
    "             'S': 'SALT'}\n",
    "dimensions = {'U':{'lon':'XG','lat':'YC','depth':'Z','time':'time'},\n",
    "             'V':{'lon':'XC','lat':'YG','depth':'Z','time':'time'},\n",
    "             'W':{'lon':'XC','lat':'YC','depth':'Zl','time':'time'},\n",
    "             'T':{'lon':'XC','lat':'YC','depth':'Z','time':'time'},\n",
    "             'S':{'lon':'XC','lat':'YC','depth':'Z','time':'time'}}\n",
    "fs = FieldSet.from_netcdf(filenames,variables,dimensions,\n",
    "                          deferred_load=True,gridindexingtype='mitgcm',\n",
    "                          time_periodic=timedelta(days=30*365))\n",
    "\n",
    "# Add conditions for periodic boundary\n",
    "fs.add_constant('halo_west', fs.U.grid.lon[0])\n",
    "fs.add_constant('halo_east', fs.U.grid.lon[-1])\n",
    "fs.add_periodic_halo(zonal=True)\n",
    "\n",
    "def periodicBC(particle, fieldset, time):\n",
    "    if particle.lon < fieldset.halo_west:\n",
    "        particle.lon += fieldset.halo_east - fieldset.halo_west\n",
    "    elif particle.lon > fieldset.halo_east:\n",
    "        particle.lon -= fieldset.halo_east - fieldset.halo_west"
   ]
  },
  {
   "cell_type": "code",
   "execution_count": 30,
   "metadata": {},
   "outputs": [],
   "source": [
    "# Pick up T and S\n",
    "class TSParticle(JITParticle):\n",
    "    T = Variable('T', dtype=np.float32)\n",
    "    S = Variable('S', dtype=np.float32)\n",
    "\n",
    "def SampleTS(particle, fieldset, time):\n",
    "    particle.T = fieldset.T[time,\n",
    "                            particle.depth,\n",
    "                            particle.lat,\n",
    "                            particle.lon]\n",
    "    particle.S = fieldset.S[time,\n",
    "                            particle.depth,\n",
    "                            particle.lat,\n",
    "                            particle.lon]"
   ]
  },
  {
   "cell_type": "code",
   "execution_count": 43,
   "metadata": {},
   "outputs": [],
   "source": [
    "N = 50\n",
    "# Drake Passage\n",
    "lats1D = np.linspace(-75,-55,N)\n",
    "lons1D=(291-10)#*np.ones(N)\n",
    "depths1D=-1*np.linspace(200,3000,N)\n",
    "[lons,lats,depths] = np.meshgrid(lons1D,lats1D,depths1D)\n",
    "times=fs.U.grid.time[-1]\n",
    "pset = ParticleSet(fieldset=fs, pclass=TSParticle,\n",
    "                  lon=lons,lat=lats,depth=depths,time=times)  "
   ]
  },
  {
   "cell_type": "markdown",
   "metadata": {},
   "source": [
    "### Run and save particles"
   ]
  },
  {
   "cell_type": "code",
   "execution_count": 38,
   "metadata": {},
   "outputs": [
    {
     "name": "stderr",
     "output_type": "stream",
     "text": [
      "INFO: Compiled ArrayTSParticleAdvectionRK4_3DSampleTSperiodicBC ==> /tmp/parcels-995200043/lib9aa1163bc0f2892a39c02f6005369dc1_0.so\n",
      "INFO: Temporary output files are stored in out-TDBODOLE.\n",
      "INFO: You can use \"parcels_convert_npydir_to_netcdf out-TDBODOLE\" to convert these to a NetCDF file during the run.\n",
      "100% (2592000.0 of 2592000.0) |##########| Elapsed Time: 0:00:08 Time:  0:00:08\n"
     ]
    }
   ],
   "source": [
    "fileout = \"output.nc\"#+\".time_back-last.init_Drake.length_4yr\"+\".nc\"\n",
    "if os.path.isfile(fileout):\n",
    "    os.remove(fileout)\n",
    "output_file = pset.ParticleFile(name=fileout, outputdt=timedelta(days=10))\n",
    "\n",
    "kernel = AdvectionRK4_3D + pset.Kernel(SampleTS) + pset.Kernel(periodicBC)\n",
    "\n",
    "pset.execute(kernel,\n",
    "             runtime=timedelta(days=30),\n",
    "             dt=-timedelta(minutes=360),\n",
    "             output_file=output_file)\n",
    "output_file.export()"
   ]
  },
  {
   "cell_type": "code",
   "execution_count": 33,
   "metadata": {},
   "outputs": [
    {
     "name": "stdout",
     "output_type": "stream",
     "text": [
      "output closed\n"
     ]
    }
   ],
   "source": [
    "try:\n",
    "    output.close()\n",
    "    print('output closed')\n",
    "except:\n",
    "    pass\n",
    "output = xr.open_dataset('output.nc', cache=False, decode_times=False)"
   ]
  },
  {
   "cell_type": "code",
   "execution_count": 34,
   "metadata": {},
   "outputs": [
    {
     "data": {
      "image/png": "[encoded data removed]",
      "text/plain": [
       "<Figure size 432x288 with 1 Axes>"
      ]
     },
     "metadata": {
      "needs_background": "light"
     },
     "output_type": "display_data"
    }
   ],
   "source": [
    "plt.plot(output['lon'].transpose(),output['lat'].transpose(),'.-');"
   ]
  },
  {
   "cell_type": "code",
   "execution_count": null,
   "metadata": {},
   "outputs": [],
   "source": [
    "fig,ax = plt.subplots()\n",
    "ax.plot(output['z'].transpose(),'.-');"
   ]
  },
  {
   "cell_type": "code",
   "execution_count": 28,
   "metadata": {},
   "outputs": [
    {
     "data": {
      "text/plain": [
       "<matplotlib.collections.PathCollection at 0x7fb44525e710>"
      ]
     },
     "execution_count": 28,
     "metadata": {},
     "output_type": "execute_result"
    },
    {
     "data": {
      "image/png": "[encoded data removed]",
      "text/plain": [
       "<Figure size 432x288 with 1 Axes>"
      ]
     },
     "metadata": {
      "needs_background": "light"
     },
     "output_type": "display_data"
    }
   ],
   "source": [
    "plt.scatter(output['lon'],output['lat'],c=output['S'])\n"
   ]
  },
  {
   "cell_type": "code",
   "execution_count": 31,
   "metadata": {},
   "outputs": [
    {
     "data": {
      "text/plain": [
       "<matplotlib.collections.QuadMesh at 0x7fb4454c67b8>"
      ]
     },
     "execution_count": 31,
     "metadata": {},
     "output_type": "execute_result"
    },
    {
     "data": {
      "image/png": "[encoded data removed]",
      "text/plain": [
       "<Figure size 432x288 with 2 Axes>"
      ]
     },
     "metadata": {
      "needs_background": "light"
     },
     "output_type": "display_data"
    }
   ],
   "source": [
    "output['S'].plot(vmin=34)"
   ]
  },
  {
   "cell_type": "code",
   "execution_count": 42,
   "metadata": {},
   "outputs": [
    {
     "data": {
      "text/plain": [
       "(50, 50, 50)"
      ]
     },
     "execution_count": 42,
     "metadata": {},
     "output_type": "execute_result"
    }
   ],
   "source": [
    "lons.shape"
   ]
  },
  {
   "cell_type": "code",
   "execution_count": null,
   "metadata": {},
   "outputs": [],
   "source": []
  }
 ],
 "metadata": {
  "kernelspec": {
   "display_name": "Python [conda env:parcels]",
   "language": "python",
   "name": "conda-env-parcels-py"
  },
  "language_info": {
   "codemirror_mode": {
    "name": "ipython",
    "version": 3
   },
   "file_extension": ".py",
   "mimetype": "text/x-python",
   "name": "python",
   "nbconvert_exporter": "python",
   "pygments_lexer": "ipython3",
   "version": "3.6.13"
  }
 },
 "nbformat": 4,
 "nbformat_minor": 4
}
