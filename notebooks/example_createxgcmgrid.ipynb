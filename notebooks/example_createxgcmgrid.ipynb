{
 "cells": [
  {
   "cell_type": "code",
   "execution_count": 6,
   "id": "8e23b7a3-3c90-45ba-bf67-29ab71832ce8",
   "metadata": {},
   "outputs": [],
   "source": [
    "import xarray as xr\n",
    "from xgcm import Grid"
   ]
  },
  {
   "cell_type": "code",
   "execution_count": 7,
   "id": "63f4182c-296b-49ac-a57f-e29da6daf0b5",
   "metadata": {},
   "outputs": [],
   "source": [
    "rootdir = '/work/e786/e786/shared/datasets/bSOSE'\n",
    "niter = 133\n",
    "freq = '5day'\n",
    "filename_prefix = 'bsose_i'+str(niter)+'_2013to2018_'+freq+'_'\n",
    "filename_suffix = '.nc'\n",
    "variables = ['Uvel','Vvel','Wvel','Theta','Salt','MLD']\n",
    "path = []\n",
    "for variable in variables:\n",
    "    filename = filename_prefix+variable+filename_suffix\n",
    "    path.append(rootdir+'/ITER'+str(niter)+'/'+filename)"
   ]
  },
  {
   "cell_type": "code",
   "execution_count": 8,
   "id": "ccd1a384-0a6e-4aee-bffd-b3b71917ca91",
   "metadata": {},
   "outputs": [],
   "source": [
    "ds = xr.open_mfdataset(path)"
   ]
  },
  {
   "cell_type": "code",
   "execution_count": 9,
   "id": "34961b68-7f22-4b55-af92-a0fddaf7797f",
   "metadata": {},
   "outputs": [],
   "source": [
    "ds['drW'] = ds.hFacW * ds.drF #vertical cell size at u point\n",
    "ds['drS'] = ds.hFacS * ds.drF #vertical cell size at v point\n",
    "ds['drC'] = ds.hFacC * ds.drF #vertical cell size at tracer point\n",
    "# Volume\n",
    "ds['vC'] = ds['drC']*ds['rA']\n",
    "# Define cell side areas\n",
    "ds['rAW'] = ds['dyG']*ds['drW']\n",
    "ds['rAS'] = ds['dxG']*ds['drS']\n",
    "\n",
    "metrics = {\n",
    "    ('X',): ['dxC', 'dxG'], # X distances\n",
    "    ('Y',): ['dyC', 'dyG'], # Y distances\n",
    "    ('Z',): ['drW', 'drS', 'drC'], # Z distances\n",
    "    ('X', 'Y'): ['rA', 'rAs', 'rAw'] # Areas\n",
    "}\n",
    "\n",
    "xgrid = Grid(ds,periodic=['X'],metrics=metrics)"
   ]
  },
  {
   "cell_type": "code",
   "execution_count": 10,
   "id": "460a3279-ac7e-4c5c-b0af-4827b461351a",
   "metadata": {},
   "outputs": [
    {
     "data": {
      "text/plain": [
       "<xgcm.Grid>\n",
       "X Axis (periodic, boundary=None):\n",
       "  * center   XC --> left\n",
       "  * left     XG --> center\n",
       "T Axis (not periodic, boundary=None):\n",
       "  * center   time\n",
       "Z Axis (not periodic, boundary=None):\n",
       "  * center   Z --> left\n",
       "  * left     Zl --> center\n",
       "Y Axis (not periodic, boundary=None):\n",
       "  * center   YC --> left\n",
       "  * left     YG --> center"
      ]
     },
     "execution_count": 10,
     "metadata": {},
     "output_type": "execute_result"
    }
   ],
   "source": [
    "xgrid"
   ]
  },
  {
   "cell_type": "code",
   "execution_count": null,
   "id": "6a84512f-af7b-4ba6-aef9-b0b75cd5adaa",
   "metadata": {},
   "outputs": [],
   "source": []
  }
 ],
 "metadata": {
  "kernelspec": {
   "display_name": "Python [conda env:parcels]",
   "language": "python",
   "name": "conda-env-parcels-py"
  },
  "language_info": {
   "codemirror_mode": {
    "name": "ipython",
    "version": 3
   },
   "file_extension": ".py",
   "mimetype": "text/x-python",
   "name": "python",
   "nbconvert_exporter": "python",
   "pygments_lexer": "ipython3",
   "version": "3.12.3"
  }
 },
 "nbformat": 4,
 "nbformat_minor": 5
}
